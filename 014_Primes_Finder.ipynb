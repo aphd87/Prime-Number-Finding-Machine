{
 "cells": [
  {
   "cell_type": "code",
   "execution_count": 1,
   "id": "fab155b9",
   "metadata": {},
   "outputs": [
    {
     "name": "stderr",
     "output_type": "stream",
     "text": [
      "C:\\Users\\19144\\AppData\\Local\\Temp\\ipykernel_18556\\310293718.py:1: DeprecationWarning: Importing display from IPython.core.display is deprecated since IPython 7.14, please import from IPython display\n",
      "  from IPython.core.display import display, HTML\n"
     ]
    },
    {
     "data": {
      "text/html": [
       "<style>.container { width:100% !important; }</style>"
      ],
      "text/plain": [
       "<IPython.core.display.HTML object>"
      ]
     },
     "metadata": {},
     "output_type": "display_data"
    }
   ],
   "source": [
    "from IPython.core.display import display, HTML\n",
    "\n",
    "# Set the width and height of the output cell\n",
    "display(HTML(\"<style>.container { width:100% !important; }</style>\"))\n"
   ]
  },
  {
   "cell_type": "code",
   "execution_count": 2,
   "id": "711ad8e0",
   "metadata": {},
   "outputs": [
    {
     "name": "stdout",
     "output_type": "stream",
     "text": [
      "{4, 6, 8, 10, 12, 14, 16, 18, 20}\n",
      "{3, 4, 5, 6, 7, 8, 9, 10, 11, 12, 13, 14, 15, 16, 17, 18, 19, 20}\n"
     ]
    }
   ],
   "source": [
    "#Set up\n",
    "n = 20\n",
    "number_range = set(range(2,n+1)) # 2 is the beginning, n+1 is the stopping point\n",
    "primes_list = [] #Empty list is useful right here\n",
    "\n",
    "#Create new variable/logic\n",
    "prime = number_range.pop() #This will extract the first element from number range = 2\n",
    "primes_list.append(prime) #Now primes list contains \"2\"\n",
    "multiples = set(range(prime*2, n+1, prime)) \n",
    "#When we create a range (start, stop, step) #First multiple is 4, for stopping up to 20 (n+1), step we want multiples of our number so we use prime\n",
    "print(multiples)\n",
    "print(number_range)\n"
   ]
  },
  {
   "cell_type": "code",
   "execution_count": 3,
   "id": "eadfd01f",
   "metadata": {},
   "outputs": [
    {
     "name": "stdout",
     "output_type": "stream",
     "text": [
      "{3, 5, 7, 9, 11, 13, 15, 17, 19}\n"
     ]
    }
   ],
   "source": [
    "#Difference update will update one set to only include values different from a second set\n",
    "#Initial set is number range\n",
    "#Pass in multiple set\n",
    "number_range.difference_update(multiples)\n",
    "print(number_range)"
   ]
  },
  {
   "cell_type": "code",
   "execution_count": 4,
   "id": "8a437e72",
   "metadata": {},
   "outputs": [],
   "source": [
    "#All of values that were in number_range and in multiples have been removed\n",
    "#Removed because we know that 4, 6, 8 are not prime\n",
    "\n",
    "#This code can be rn again, and 3 will be added to the prime variable and primes_list and so on...\n",
    "\n",
    "\n"
   ]
  },
  {
   "cell_type": "code",
   "execution_count": 5,
   "id": "e2bdd84d",
   "metadata": {},
   "outputs": [],
   "source": [
    "#Version 2 - While loop so that we don't have to do this manually.\n",
    "\n",
    "#Upper bound \n",
    "n=20\n",
    "\n",
    "#Number range to be checked\n",
    "number_range = set(range(2, n+1))\n",
    "\n",
    "#Empty list to append discovered primes to \n",
    "primes_list = []\n",
    "\n",
    "#While loop\n",
    "while number_range:\n",
    "    prime = number_range.pop() #This will extract the first element from number range = 2\n",
    "    primes_list.append(prime) #Now primes list contains \"2\"\n",
    "    multiples = set(range(prime*2, n+1, prime)) \n",
    "    number_range.difference_update(multiples)\n"
   ]
  },
  {
   "cell_type": "code",
   "execution_count": 6,
   "id": "6c4956d7",
   "metadata": {},
   "outputs": [
    {
     "name": "stdout",
     "output_type": "stream",
     "text": [
      "[2, 3, 5, 7, 11, 13, 17, 19]\n",
      "There are 8 prime numbers between 2 and 20, the largest of which is 19\n"
     ]
    }
   ],
   "source": [
    "#Print out list of primes\n",
    "print(primes_list)\n",
    "\n",
    "#Number of primes that were found\n",
    "prime_count = len(primes_list)\n",
    "\n",
    "#largest prime\n",
    "largest_prime = max(primes_list)\n",
    "\n",
    "#Summary\n",
    "print(f\"There are {prime_count} prime numbers between 2 and {n}, the largest of which is {largest_prime}\")"
   ]
  },
  {
   "cell_type": "code",
   "execution_count": 7,
   "id": "4ffdfb5f",
   "metadata": {},
   "outputs": [],
   "source": [
    "#You can manipulate the n= 100 to gain a greater sense of how this might vary."
   ]
  },
  {
   "cell_type": "code",
   "execution_count": 19,
   "id": "ae03f20c",
   "metadata": {},
   "outputs": [],
   "source": [
    "#Version 3 \n",
    "\n",
    "def primes_finder(n):\n",
    "    #Number range to be checked\n",
    "    number_range = set(range(2, n+1))\n",
    "\n",
    "    #Empty list to append discovered primes to \n",
    "    primes_list = []\n",
    "\n",
    "    #While loop\n",
    "    while number_range:\n",
    "        prime = number_range.pop() #This will extract the first element from number range = 2\n",
    "        primes_list.append(prime) #Now primes list contains \"2\"\n",
    "        multiples = set(range(prime*2, n+1, prime)) \n",
    "        number_range.difference_update(multiples)\n",
    "   \n",
    "    #Print out list of primes\n",
    "    if len(primes_list) <= 100:\n",
    "        print(primes_list)\n",
    "    else: #Do not print primes_list\n",
    "        pass    \n",
    "\n",
    "    #Number of primes that were found\n",
    "    prime_count = len(primes_list)\n",
    "    \n",
    "    #largest prime\n",
    "    largest_prime = max(primes_list)\n",
    "\n",
    "    #Summary\n",
    "    print(f\"There are {prime_count} prime numbers between 2 and {n}, the largest of which is {largest_prime}\")\n",
    "    \n",
    "    return primes_list"
   ]
  },
  {
   "cell_type": "code",
   "execution_count": 22,
   "id": "f1307dff",
   "metadata": {},
   "outputs": [
    {
     "name": "stdout",
     "output_type": "stream",
     "text": [
      "There are 168 prime numbers between 2 and 1000, the largest of which is 997\n",
      "There are 168 prime numbers between 2 and 1000, the largest of which is 997\n",
      "[2, 3, 5, 7, 11, 13, 17, 19, 23, 29, 31, 37, 41, 43, 47, 53, 59, 61, 67, 71, 73, 79, 83, 89, 97, 101, 103, 107, 109, 113, 127, 131, 137, 139, 149, 151, 157, 163, 167, 173, 179, 181, 191, 193, 197, 199, 211, 223, 227, 229, 233, 239, 241, 251, 257, 263, 269, 271, 277, 281, 283, 293, 307, 311, 313, 317, 331, 337, 347, 349, 353, 359, 367, 373, 379, 383, 389, 397, 401, 409, 419, 421, 431, 433, 439, 443, 449, 457, 461, 463, 467, 479, 487, 491, 499, 503, 509, 521, 523, 541, 547, 557, 563, 569, 571, 577, 587, 593, 599, 601, 607, 613, 617, 619, 631, 641, 643, 647, 653, 659, 661, 673, 677, 683, 691, 701, 709, 719, 727, 733, 739, 743, 751, 757, 761, 769, 773, 787, 797, 809, 811, 821, 823, 827, 829, 839, 853, 857, 859, 863, 877, 881, 883, 887, 907, 911, 919, 929, 937, 941, 947, 953, 967, 971, 977, 983, 991, 997]\n"
     ]
    }
   ],
   "source": [
    "#Now just use the function\n",
    "primes_finder(1000)\n",
    "primes_list = primes_finder(1000)\n",
    "print(primes_list)"
   ]
  },
  {
   "cell_type": "code",
   "execution_count": 35,
   "id": "50d28cb2",
   "metadata": {},
   "outputs": [
    {
     "name": "stdout",
     "output_type": "stream",
     "text": [
      "There are 101 prime numbers between 2 and 550, the largest of which is 547\n"
     ]
    }
   ],
   "source": [
    "primes_list = primes_finder(550)"
   ]
  },
  {
   "cell_type": "code",
   "execution_count": null,
   "id": "51541021",
   "metadata": {},
   "outputs": [],
   "source": [
    "#An interesting note on the use of the pop() method with sets in Python...\n",
    "\n",
    "#In the prior tutorial we were coding up a fun & interesting example of identifying prime numbers with the emphasis on showing off some of the functionality that can be used with sets in Python.\n",
    "\n",
    "#In the real world - we would need to make a consideration around the pop() method when used on a set as in some cases it can be a bit inconsistent.\n",
    "\n",
    "#The pop() method will usually extract the lowest element of a set. Sets however are, by definition, unordered. The items are stored internally with some order, but this internal order is determined by the hash code of the key (which is what allows retrieval to be so fast). \n",
    "\n",
    "#This hashing method means that we can't 100% rely on it successfully getting the lowest value. In very rare cases, the hash provides a value that is not the lowest.\n",
    "\n",
    "#It's nothing to worry about here, like I say we were just coding up something fun to pull together some of what we have learned so far - but it's a useful thing to note when using sets in Python in the future!\n",
    "\n",
    "\n",
    "\n",
    "#The simplest solution to force the minimum value to be used is to replace the line...\n",
    "\n",
    "#prime = number_range.pop()\n",
    "\n",
    "#...with the lines...\n",
    "\n",
    "#prime = min(sorted(number_range))\n",
    "\n",
    "#number_range.remove(prime)"
   ]
  },
  {
   "cell_type": "code",
   "execution_count": null,
   "id": "b2e90184",
   "metadata": {},
   "outputs": [],
   "source": []
  },
  {
   "cell_type": "code",
   "execution_count": null,
   "id": "ed06a3dd",
   "metadata": {},
   "outputs": [],
   "source": []
  }
 ],
 "metadata": {
  "kernelspec": {
   "display_name": "Python 3 (ipykernel)",
   "language": "python",
   "name": "python3"
  },
  "language_info": {
   "codemirror_mode": {
    "name": "ipython",
    "version": 3
   },
   "file_extension": ".py",
   "mimetype": "text/x-python",
   "name": "python",
   "nbconvert_exporter": "python",
   "pygments_lexer": "ipython3",
   "version": "3.11.5"
  }
 },
 "nbformat": 4,
 "nbformat_minor": 5
}
